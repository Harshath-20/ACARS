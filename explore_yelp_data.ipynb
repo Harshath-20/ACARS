{
 "cells": [
  {
   "cell_type": "markdown",
   "metadata": {},
   "source": [
    "# Yelp Dataset EDA – ACARS Project\n",
    "\n",
    "Explore user, business, and review data for understanding trends and preprocessing."
   ]
  },
  {
   "cell_type": "code",
   "execution_count": null,
   "metadata": {},
   "outputs": [],
   "source": [
    "import pandas as pd\n",
    "import json\n",
    "import matplotlib.pyplot as plt\n",
    "import seaborn as sns\n",
    "\n",
    "sns.set(style=\"whitegrid\")"
   ]
  },
  {
   "cell_type": "code",
   "execution_count": null,
   "metadata": {},
   "outputs": [],
   "source": [
    "# Load Yelp Reviews JSON\n",
    "def load_yelp_json(path, limit=50000):\n",
    "    with open(path, 'r') as f:\n",
    "        data = [json.loads(line) for _, line in zip(range(limit), f)]\n",
    "    return pd.DataFrame(data)\n",
    "\n",
    "reviews = load_yelp_json('../datasets/yelp_academic_dataset_review.json')\n",
    "users = load_yelp_json('../datasets/yelp_academic_dataset_user.json')\n",
    "businesses = load_yelp_json('../datasets/yelp_academic_dataset_business.json')"
   ]
  },
  {
   "cell_type": "code",
   "execution_count": null,
   "metadata": {},
   "outputs": [],
   "source": [
    "# Preview reviews\n",
    "reviews[['user_id', 'business_id', 'stars', 'date']].head()"
   ]
  },
  {
   "cell_type": "code",
   "execution_count": null,
   "metadata": {},
   "outputs": [],
   "source": [
    "# Rating distribution\n",
    "sns.countplot(x='stars', data=reviews)\n",
    "plt.title('Distribution of Ratings')\n",
    "plt.show()"
   ]
  },
  {
   "cell_type": "code",
   "execution_count": null,
   "metadata": {},
   "outputs": [],
   "source": [
    "# Reviews over time\n",
    "reviews['date'] = pd.to_datetime(reviews['date'])\n",
    "reviews['year'] = reviews['date'].dt.year\n",
    "sns.countplot(x='year', data=reviews)\n",
    "plt.title('Review Volume by Year')\n",
    "plt.xticks(rotation=45)\n",
    "plt.show()"
   ]
  }
 ],
 "metadata": {
  "kernelspec": {
   "display_name": "Python 3",
   "language": "python",
   "name": "python3"
  },
  "language_info": {
   "name": "python",
   "version": ""
  }
 },
 "nbformat": 4,
 "nbformat_minor": 2
}
